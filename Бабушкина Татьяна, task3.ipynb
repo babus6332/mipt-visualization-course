{
 "cells": [
  {
   "cell_type": "markdown",
   "metadata": {},
   "source": [
    "## 3 задание Бабушкиной Татьяны М05-012б"
   ]
  },
  {
   "cell_type": "code",
   "execution_count": 25,
   "metadata": {},
   "outputs": [],
   "source": [
    "# positions:\n",
    "#              L(EFT)    M(IDDLE)    R(IGHT)\n",
    "#                           MT\n",
    "# T(OP)      LT +-----------+-----------+ RT\n",
    "#               |                       |\n",
    "# M(IDDLE)   LM +                       + RM\n",
    "#               |                       |\n",
    "# B(OTTOM)   LB +-----------+-----------+ RB\n",
    "#                           MB\n",
    "POS_XMASK = 0b1100\n",
    "POS_YMASK = 0b0011\n",
    "POS_R  = 0b0000\n",
    "POS_MX = 0b0100\n",
    "POS_L  = 0b1000\n",
    "POS_B  = 0b00\n",
    "POS_MY = 0b01\n",
    "POS_T  = 0b10\n",
    "POS_RB = POS_R  | POS_B  # 0\n",
    "POS_RM = POS_R  | POS_MY # 1 \n",
    "POS_RT = POS_R  | POS_T  # 2 \n",
    "POS_MT = POS_MX | POS_T  # 6\n",
    "POS_LT = POS_L  | POS_T  # 10\n",
    "POS_LM = POS_L  | POS_MY # 9\n",
    "POS_LB = POS_L  | POS_B  # 8\n",
    "POS_MB = POS_MX | POS_B  # 4\n",
    "legal_positions = {POS_RB, POS_RM, POS_RT, POS_MT, POS_LT, POS_LM, POS_LB, POS_MB}\n",
    "\n",
    "\n",
    "# a, b: centerX, centerY, width, height\n",
    "def areRectanglesIntersect(a, b):\n",
    "   return abs(a[0]-b[0]) < abs(a[2]+b[2])/2 and abs(a[1]-b[1]) < abs(a[3]+b[3])/2\n",
    "\n",
    "\n",
    "# label: pointX, pointY, labelSize_X, labelSize_Y\n",
    "def label2rectangle(label, pos):\n",
    "\tx = 0\n",
    "\ty = 0\n",
    "\tif pos&POS_XMASK == POS_R:\n",
    "\t\tx = label[0] - label[2]/2\n",
    "\telif pos&POS_XMASK == POS_MX:\n",
    "\t\tx = label[0]\n",
    "\telif pos&POS_XMASK == POS_L:\t\n",
    "\t\tx = label[0] + label[2]/2\n",
    "\telse:\n",
    "\t\traise NameError('invalid label position')\n",
    "\t\n",
    "\tif pos&POS_YMASK == POS_B:\n",
    "\t\ty = label[1] + label[3]/2\n",
    "\telif pos&POS_YMASK == POS_MY:\n",
    "\t\ty = label[1]\n",
    "\telif pos&POS_YMASK == POS_T:\n",
    "\t\ty = label[1] - label[3]/2\n",
    "\telse:\n",
    "\t\traise NameError('invalid label position')\n",
    "\t\n",
    "\treturn [x, y, label[2], label[3]]\n",
    "\n",
    "\n",
    "def areLabelsIntersect(label1, pos1, label2, pos2):\n",
    "\treturn areRectanglesIntersect(label2rectangle(label1, pos1), label2rectangle(label2, pos2))\n",
    "\n",
    "\n",
    "# обозначения:можную пози\n",
    "# положительное число i: берем 1-ю возможную позицию метки (i-1),\n",
    "# отрицательное -- вторую (отрицание соотв. булевой переменной)\n",
    "# label = [point_X point_Y labelSize_X labelSize_Y pos1 pos2]\n",
    "def getClauses(labels):\n",
    "\tresult = []\n",
    "\tfor i in range(len(labels)):\n",
    "\t\tfor j in range(len(labels)):\n",
    "\t\t\tif i != j:\n",
    "\t\t\t\ti1 = i+1\n",
    "\t\t\t\tj1 = j+1\n",
    "\t\t\t\tif areLabelsIntersect(labels[i], labels[i][4], labels[j], labels[j][4]):\n",
    "\t\t\t\t\tresult.append((-i1, -j1))\n",
    "\t\t\t\tif areLabelsIntersect(labels[i], labels[i][4], labels[j], labels[j][5]):\n",
    "\t\t\t\t\tresult.append((-i1, j1))\n",
    "\t\t\t\tif areLabelsIntersect(labels[i], labels[i][5], labels[j], labels[j][4]):\n",
    "\t\t\t\t\tresult.append((i1, -j1))\n",
    "\t\t\t\tif areLabelsIntersect(labels[i], labels[i][5], labels[j], labels[j][5]):\n",
    "\t\t\t\t\tresult.append((i1, j1))\n",
    "\treturn result\n",
    "\n",
    "\n",
    "def DFS(v, visited, graph):\n",
    "\tif v in visited:\n",
    "\t\treturn []\n",
    "\tvisited.add(v)\n",
    "\toutput = []\n",
    "\tfor w in graph[v]:\n",
    "\t\toutput += DFS(w, visited, graph)\n",
    "\toutput.append(v)\n",
    "\treturn output\n",
    "\n",
    "\n",
    "def strongly_connected_components(v, components, visited, reverseGraph):\n",
    "\tif v in visited:\n",
    "\t\treturn components\n",
    "\tvisited.add(v)\n",
    "\tif -v in components:\n",
    "\t\traise Exception()\n",
    "\t# если переменная входит в тот же компонент, что отрицание, то решение не существует\n",
    "\tif v not in components:\n",
    "\t\tcomponents[v] = True\n",
    "\tfor w in reverseGraph[v]:\n",
    "\t\tstrongly_connected_components(w, components, visited, reverseGraph)\n",
    "\treturn components\n",
    "\n",
    "\n",
    "def TwoSAT(Q, n):\n",
    "\t\"\"\"Calculate 2SAT for query Q with n variables.\n",
    "\tReturns None if no solution, else an object with variable index as key and\n",
    "\tboolean as value.\"\"\"\n",
    "\n",
    "\t# строим граф и обратный граф\n",
    "\t# V = множество переменных в формуле и их отрицаний\n",
    "   # E = {(~u, v),(~v,u) | для всех дизъюнктов [u,v] }\n",
    "\tgraph = []\n",
    "\treverseGraph = []\n",
    "\tfor i in range((n+1)*2):\n",
    "\t\tgraph.append([])\n",
    "\t\treverseGraph.append([])\n",
    "\tfor (a, b) in Q:\n",
    "\t\tgraph[-a].append(b)\n",
    "\t\tgraph[-b].append(a)\n",
    "\t\treverseGraph[a].append(-b)\n",
    "\t\treverseGraph[b].append(-a)\n",
    "\n",
    "\t#  вычисляем сильно связанные компоненты графа по алгоритму Косарайю\n",
    "\t# https://en.wikipedia.org/wiki/Kosaraju%27s_algorithm\n",
    "\tvisited = set()\n",
    "\tL = []\n",
    "\tfor i in range(n):\n",
    "\t\tL += DFS(i+1, visited, graph)\n",
    "\t\tL += DFS(-(i+1), visited, graph)\n",
    "\tL = L[::-1]\n",
    "\n",
    "\tvisited = set()\n",
    "\tcomponents = []\n",
    "\ttry:\n",
    "\t\tfor v in L:\n",
    "\t\t\tcomponents.append(strongly_connected_components(v, {}, visited, reverseGraph))\n",
    "\texcept:\n",
    "\t\treturn\n",
    "\t\n",
    "\t# 3. prepare result\n",
    "\tresult = {}\n",
    "\twhile len(result) < n:\n",
    "\t\tc = components.pop()\n",
    "\t\tfor p in c:\n",
    "\t\t\tif abs(p) not in result:\n",
    "\t\t\t\tresult[abs(p)] = p > 0\n",
    "\treturn result"
   ]
  },
  {
   "cell_type": "markdown",
   "metadata": {},
   "source": [
    "## Приведем пример возможного расположения подписей"
   ]
  },
  {
   "cell_type": "code",
   "execution_count": 26,
   "metadata": {},
   "outputs": [],
   "source": [
    "data = [\n",
    "    [1.0, 1.0, 2.0, 2.0, 8, 9],\n",
    "    [4.0, 1.0, 2.0, 2.0, 0, 8]\n",
    "]\n"
   ]
  },
  {
   "cell_type": "code",
   "execution_count": 27,
   "metadata": {},
   "outputs": [
    {
     "name": "stdout",
     "output_type": "stream",
     "text": [
      "Clauses\n",
      "[(-1, -2), (1, -2), (-2, -1), (-2, 1)]\n"
     ]
    }
   ],
   "source": [
    "# каждой подписи сопоставляем переменную, которая ложна, если берется первая позиция, и верна, если вторая.\n",
    "# для каждой пары подписей для каждой позиции проверяем, пересекаются или нет.\n",
    "# если да, то получаем условие в SAT вида not(p and q) = (not p or not q), где p, q -- булевы переменные, задающие позиции двух подписей (возможно, с отрицанием)\n",
    "# результат: 2-SAT формула\n",
    "clauses = getClauses(data)\n",
    "print(\"Clauses\")\n",
    "print(clauses)"
   ]
  },
  {
   "cell_type": "code",
   "execution_count": 28,
   "metadata": {},
   "outputs": [
    {
     "name": "stdout",
     "output_type": "stream",
     "text": [
      "Solution\n",
      "[1.0, 1.0, 2.0, 2.0, 8]\n",
      "[4.0, 1.0, 2.0, 2.0, 8]\n"
     ]
    }
   ],
   "source": [
    "# решаем формулу\n",
    "solution = TwoSAT(clauses, len(data))\n",
    "if solution == None:\n",
    "\tprint(\"No solution\")\n",
    "else:\n",
    "\tprint(\"Solution\")\n",
    "\tfor idx, label in enumerate(data):\n",
    "\t\tif solution[idx+1]:\n",
    "\t\t\tprint([label[0], label[1], label[2], label[3], label[4]])\n",
    "\t\telse:\n",
    "\t\t\tprint([label[0], label[1], label[2], label[3], label[5]])"
   ]
  },
  {
   "cell_type": "markdown",
   "metadata": {},
   "source": [
    "## Отрисуем полученное расположение подписей"
   ]
  },
  {
   "cell_type": "code",
   "execution_count": 29,
   "metadata": {},
   "outputs": [
    {
     "data": {
      "text/plain": [
       "(0.0, 6.0)"
      ]
     },
     "execution_count": 29,
     "metadata": {},
     "output_type": "execute_result"
    },
    {
     "data": {
      "image/png": "[encoded data removed]",
      "text/plain": [
       "<Figure size 432x288 with 1 Axes>"
      ]
     },
     "metadata": {
      "needs_background": "light"
     },
     "output_type": "display_data"
    }
   ],
   "source": [
    "import matplotlib.pyplot as plt\n",
    "import matplotlib.patches as patches\n",
    "%matplotlib inline\n",
    "\n",
    "fig1 = plt.figure()\n",
    "ax1 = fig1.add_subplot(111, aspect='equal')\n",
    "x_min = 0\n",
    "y_min = 0\n",
    "x_max = 0\n",
    "y_max = 0\n",
    "for idx, label in enumerate(data):\n",
    "\tr = label2rectangle(label, label[4]) if solution[idx+1] else label2rectangle(label, label[5])\n",
    "\tif r[0]+r[2]/2 > x_max:\n",
    "\t\tx_max = r[0]+r[2]/2\n",
    "\tif r[0]-r[2]/2 < x_min:\n",
    "\t\tx_min = r[0]-r[2]/2\n",
    "\tif r[1]+r[3]/2 > y_max:\n",
    "\t\ty_max = r[1]+r[3]/2\n",
    "\tif r[1]-r[3]/2 < y_min:\n",
    "\t\ty_min = r[1]-r[3]/2\n",
    "\tax1.add_patch(patches.Rectangle((r[0]-r[2]/2, r[1]-r[3]/2), r[2], r[3]))\n",
    "\n",
    "plt.ylim((y_min, y_max))\n",
    "plt.xlim((x_min, x_max))"
   ]
  },
  {
   "cell_type": "markdown",
   "metadata": {},
   "source": [
    "## Приведем пример невозможного расположения подписей"
   ]
  },
  {
   "cell_type": "code",
   "execution_count": 30,
   "metadata": {},
   "outputs": [
    {
     "name": "stdout",
     "output_type": "stream",
     "text": [
      "Clauses\n",
      "[(-1, -2), (-1, 2), (1, -2), (1, 2), (-2, -1), (-2, 1), (2, -1), (2, 1)]\n",
      "No solution\n"
     ]
    }
   ],
   "source": [
    "data = [\n",
    "    [1.0, 1.0, 2.0, 2.0, 8, 9],\n",
    "    [4.0, 1.0, 2.0, 2.0, 0, 1]\n",
    "]\n",
    "clauses = getClauses(data)\n",
    "print(\"Clauses\")\n",
    "print(clauses)\n",
    "\n",
    "solution = TwoSAT(clauses, len(data))\n",
    "if solution == None:\n",
    "\tprint(\"No solution\")\n",
    "else:\n",
    "\tprint(\"Solution\")\n",
    "\tfor idx, label in enumerate(data):\n",
    "\t\tif solution[idx+1]:\n",
    "\t\t\tprint([label[0], label[1], label[2], label[3], label[4]])\n",
    "\t\telse:\n",
    "\t\t\tprint([label[0], label[1], label[2], label[3], label[5]])"
   ]
  },
  {
   "cell_type": "code",
   "execution_count": null,
   "metadata": {},
   "outputs": [],
   "source": []
  }
 ],
 "metadata": {
  "kernelspec": {
   "display_name": "Python 3",
   "language": "python",
   "name": "python3"
  },
  "language_info": {
   "codemirror_mode": {
    "name": "ipython",
    "version": 3
   },
   "file_extension": ".py",
   "mimetype": "text/x-python",
   "name": "python",
   "nbconvert_exporter": "python",
   "pygments_lexer": "ipython3",
   "version": "3.8.5"
  }
 },
 "nbformat": 4,
 "nbformat_minor": 2
}
